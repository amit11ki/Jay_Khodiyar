{
 "cells": [
  {
   "cell_type": "code",
   "execution_count": 2,
   "id": "695fdfd2-e51a-463f-9453-0d83cc3770e7",
   "metadata": {},
   "outputs": [],
   "source": [
    "import pandas as pd\n",
    "import numpy as np\n",
    "import matplotlib.pyplot as plt"
   ]
  },
  {
   "cell_type": "code",
   "execution_count": 3,
   "id": "dc4a012a-aa63-430d-a2c4-8d3d7cd9cfa6",
   "metadata": {},
   "outputs": [],
   "source": [
    "data = pd.read_csv('train.csv')"
   ]
  },
  {
   "cell_type": "code",
   "execution_count": 4,
   "id": "45ee455d-a490-4f44-ad57-6c5bc9bce36e",
   "metadata": {},
   "outputs": [
    {
     "data": {
      "text/html": [
       "<div>\n",
       "<style scoped>\n",
       "    .dataframe tbody tr th:only-of-type {\n",
       "        vertical-align: middle;\n",
       "    }\n",
       "\n",
       "    .dataframe tbody tr th {\n",
       "        vertical-align: top;\n",
       "    }\n",
       "\n",
       "    .dataframe thead th {\n",
       "        text-align: right;\n",
       "    }\n",
       "</style>\n",
       "<table border=\"1\" class=\"dataframe\">\n",
       "  <thead>\n",
       "    <tr style=\"text-align: right;\">\n",
       "      <th></th>\n",
       "      <th>category</th>\n",
       "      <th>sub_category</th>\n",
       "      <th>crimeaditionalinfo</th>\n",
       "    </tr>\n",
       "  </thead>\n",
       "  <tbody>\n",
       "    <tr>\n",
       "      <th>0</th>\n",
       "      <td>Online and Social Media Related Crime</td>\n",
       "      <td>Cyber Bullying  Stalking  Sexting</td>\n",
       "      <td>I had continue received random calls and abusi...</td>\n",
       "    </tr>\n",
       "    <tr>\n",
       "      <th>1</th>\n",
       "      <td>Online Financial Fraud</td>\n",
       "      <td>Fraud CallVishing</td>\n",
       "      <td>The above fraudster is continuously messaging ...</td>\n",
       "    </tr>\n",
       "    <tr>\n",
       "      <th>2</th>\n",
       "      <td>Online Gambling  Betting</td>\n",
       "      <td>Online Gambling  Betting</td>\n",
       "      <td>He is acting like a police and demanding for m...</td>\n",
       "    </tr>\n",
       "    <tr>\n",
       "      <th>3</th>\n",
       "      <td>Online and Social Media Related Crime</td>\n",
       "      <td>Online Job Fraud</td>\n",
       "      <td>In apna Job I have applied for job interview f...</td>\n",
       "    </tr>\n",
       "    <tr>\n",
       "      <th>4</th>\n",
       "      <td>Online Financial Fraud</td>\n",
       "      <td>Fraud CallVishing</td>\n",
       "      <td>I received a call from lady stating that she w...</td>\n",
       "    </tr>\n",
       "  </tbody>\n",
       "</table>\n",
       "</div>"
      ],
      "text/plain": [
       "                                category                       sub_category  \\\n",
       "0  Online and Social Media Related Crime  Cyber Bullying  Stalking  Sexting   \n",
       "1                 Online Financial Fraud                  Fraud CallVishing   \n",
       "2               Online Gambling  Betting           Online Gambling  Betting   \n",
       "3  Online and Social Media Related Crime                   Online Job Fraud   \n",
       "4                 Online Financial Fraud                  Fraud CallVishing   \n",
       "\n",
       "                                  crimeaditionalinfo  \n",
       "0  I had continue received random calls and abusi...  \n",
       "1  The above fraudster is continuously messaging ...  \n",
       "2  He is acting like a police and demanding for m...  \n",
       "3  In apna Job I have applied for job interview f...  \n",
       "4  I received a call from lady stating that she w...  "
      ]
     },
     "execution_count": 4,
     "metadata": {},
     "output_type": "execute_result"
    }
   ],
   "source": [
    "data.head()"
   ]
  },
  {
   "cell_type": "code",
   "execution_count": 4,
   "id": "77729a2a-28cc-4c5e-a277-f882ac40e02e",
   "metadata": {},
   "outputs": [],
   "source": [
    "missing_values = data.isnull().sum()"
   ]
  },
  {
   "cell_type": "code",
   "execution_count": 5,
   "id": "b1bd76ca-8b3e-47c0-b284-770a630de050",
   "metadata": {},
   "outputs": [
    {
     "name": "stdout",
     "output_type": "stream",
     "text": [
      "category                 0\n",
      "sub_category          6591\n",
      "crimeaditionalinfo      21\n",
      "dtype: int64\n"
     ]
    }
   ],
   "source": [
    "print(missing_values)"
   ]
  },
  {
   "cell_type": "code",
   "execution_count": 6,
   "id": "7f7bec19-4307-4df1-8a83-236cae238226",
   "metadata": {},
   "outputs": [
    {
     "name": "stdout",
     "output_type": "stream",
     "text": [
      "category_counts: category\n",
      "Online Financial Fraud                                  57434\n",
      "Online and Social Media Related Crime                   12140\n",
      "Any Other Cyber Crime                                   10878\n",
      "Cyber Attack/ Dependent Crimes                           3608\n",
      "RapeGang Rape RGRSexually Abusive Content                2822\n",
      "Sexually Obscene material                                1838\n",
      "Hacking  Damage to computercomputer system etc           1710\n",
      "Sexually Explicit Act                                    1552\n",
      "Cryptocurrency Crime                                      480\n",
      "Online Gambling  Betting                                  444\n",
      "Child Pornography CPChild Sexual Abuse Material CSAM      379\n",
      "Online Cyber Trafficking                                  183\n",
      "Cyber Terrorism                                           161\n",
      "Ransomware                                                 56\n",
      "Report Unlawful Content                                     1\n",
      "Name: count, dtype: int64\n"
     ]
    }
   ],
   "source": [
    "category_counts = data[\"category\"].value_counts()\n",
    "print(\"category_counts:\",category_counts)\n"
   ]
  },
  {
   "cell_type": "code",
   "execution_count": 7,
   "id": "9aac02ac-859d-48bf-9864-2257dde933a5",
   "metadata": {},
   "outputs": [
    {
     "name": "stdout",
     "output_type": "stream",
     "text": [
      "<class 'pandas.core.series.Series'>\n"
     ]
    }
   ],
   "source": [
    "subcategories = data[\"sub_category\"].copy()\n",
    "print(type(subcategories))"
   ]
  },
  {
   "cell_type": "code",
   "execution_count": 8,
   "id": "4f98e64e-9787-4155-a9d9-538496a15200",
   "metadata": {},
   "outputs": [
    {
     "name": "stdout",
     "output_type": "stream",
     "text": [
      "sub_category\n",
      "UPI Related Frauds                                                      26856\n",
      "Other                                                                   10878\n",
      "DebitCredit Card FraudSim Swap Fraud                                    10805\n",
      "Internet Banking Related Fraud                                           8872\n",
      "Fraud CallVishing                                                        5803\n",
      "Cyber Bullying  Stalking  Sexting                                        4089\n",
      "EWallet Related Fraud                                                    4047\n",
      "FakeImpersonating Profile                                                2299\n",
      "Profile Hacking Identity Theft                                           2073\n",
      "Cheating by Impersonation                                                1988\n",
      "Unauthorised AccessData Breach                                           1114\n",
      "Online Job Fraud                                                          912\n",
      "DematDepository Fraud                                                     761\n",
      "Tampering with computer source documents                                  567\n",
      "Hacking/Defacement                                                        540\n",
      "Ransomware Attack                                                         534\n",
      "Malware Attack                                                            521\n",
      "SQL Injection                                                             508\n",
      "Denial of Service (DoS)/Distributed Denial of Service (DDOS) attacks      504\n",
      "Data Breach/Theft                                                         484\n",
      "Cryptocurrency Fraud                                                      480\n",
      "Online Gambling  Betting                                                  444\n",
      "Provocative Speech for unlawful acts                                      417\n",
      "Email Hacking                                                             349\n",
      "Business Email CompromiseEmail Takeover                                   290\n",
      "Online Trafficking                                                        183\n",
      "Cyber Terrorism                                                           161\n",
      "EMail Phishing                                                            157\n",
      "Online Matrimonial Fraud                                                  132\n",
      "Damage to computer computer systems etc                                   108\n",
      "Website DefacementHacking                                                  89\n",
      "Ransomware                                                                 56\n",
      "Impersonating Email                                                        44\n",
      "Intimidating Email                                                         29\n",
      "Against Interest of sovereignty or integrity of India                       1\n",
      "Name: count, dtype: int64\n"
     ]
    }
   ],
   "source": [
    "subcategories_count = subcategories.value_counts()\n",
    "print(subcategories_count)"
   ]
  },
  {
   "cell_type": "code",
   "execution_count": 9,
   "id": "33d76b81-1ce5-4d62-ad8a-b854e7ad9c5c",
   "metadata": {},
   "outputs": [],
   "source": [
    "subcategories_to_move = [\n",
    "    \"RapeGang Rape RGRSexually Abusive Content\",\n",
    "    \"Sexually Explicit Act\",\n",
    "    \"Child Pornography CPChild Sexual Abuse Material CSAM\",\n",
    "    \"Sexually Obscene material\"\n",
    "]"
   ]
  },
  {
   "cell_type": "code",
   "execution_count": 10,
   "id": "f4d9f718-fa22-4ee9-9624-883c43346cce",
   "metadata": {},
   "outputs": [
    {
     "name": "stdout",
     "output_type": "stream",
     "text": [
      "                        category                               sub_category  \\\n",
      "8      Women/Child Related Crime  RapeGang Rape RGRSexually Abusive Content   \n",
      "25     Women/Child Related Crime  RapeGang Rape RGRSexually Abusive Content   \n",
      "39     Women/Child Related Crime                      Sexually Explicit Act   \n",
      "45     Women/Child Related Crime                  Sexually Obscene material   \n",
      "49     Women/Child Related Crime                      Sexually Explicit Act   \n",
      "...                          ...                                        ...   \n",
      "93632  Women/Child Related Crime                      Sexually Explicit Act   \n",
      "93648  Women/Child Related Crime                      Sexually Explicit Act   \n",
      "93653  Women/Child Related Crime  RapeGang Rape RGRSexually Abusive Content   \n",
      "93667  Women/Child Related Crime  RapeGang Rape RGRSexually Abusive Content   \n",
      "93678  Women/Child Related Crime  RapeGang Rape RGRSexually Abusive Content   \n",
      "\n",
      "                                      crimeaditionalinfo  \n",
      "8      I got the message on Whatsapp to my number The...  \n",
      "25     Respected Sir\\r\\n\\r\\nA very serious matter I w...  \n",
      "39     httpswwwxnxxtvvideousapbfuckkkarrr\\r\\n\\r\\n Abo...  \n",
      "45     Many fake accounts are created and Im sufferin...  \n",
      "49     SirMaam \\r\\nThis is my third report on this re...  \n",
      "...                                                  ...  \n",
      "93632    ob cash                                     ...  \n",
      "93648  I got fraud by atm exchange in union bank of i...  \n",
      "93653  Respected Sir\\r\\n\\r\\nA very serious matter I w...  \n",
      "93667  Respected Sir\\r\\n\\r\\nA very serious matter I w...  \n",
      "93678  Respected Sir\\r\\n\\r\\nA very serious matter I w...  \n",
      "\n",
      "[6591 rows x 3 columns]\n"
     ]
    },
    {
     "name": "stderr",
     "output_type": "stream",
     "text": [
      "C:\\Users\\HARSHIL\\AppData\\Local\\Temp\\ipykernel_8852\\2161774901.py:10: FutureWarning: A value is trying to be set on a copy of a DataFrame or Series through chained assignment using an inplace method.\n",
      "The behavior will change in pandas 3.0. This inplace method will never work because the intermediate object on which we are setting values always behaves as a copy.\n",
      "\n",
      "For example, when doing 'df[col].method(value, inplace=True)', try using 'df.method({col: value}, inplace=True)' or df[col] = df[col].method(value) instead, to perform the operation inplace on the original object.\n",
      "\n",
      "\n",
      "  data['sub_category'].fillna('Unknown', inplace=True)\n"
     ]
    }
   ],
   "source": [
    "mask = data['category'].isin(subcategories_to_move) & data['sub_category'].isna()\n",
    "\n",
    "# Step 2: Update the Subcategory column with the values from the Category column for these rows\n",
    "data.loc[mask, 'sub_category'] = data.loc[mask, 'category']\n",
    "\n",
    "# Step 3: Set the Category for these rows to \"Women/Child Related Crime\"\n",
    "data.loc[mask, 'category'] = 'Women/Child Related Crime'\n",
    "\n",
    "# Fill remaining nulls in Subcategory with 'Unknown' (if needed)\n",
    "data['sub_category'].fillna('Unknown', inplace=True)\n",
    "\n",
    "# Display the transformed dataset (for verification)\n",
    "print(data[mask])"
   ]
  },
  {
   "cell_type": "code",
   "execution_count": 11,
   "id": "6d37964b-b1be-415a-a583-bd06eba2b37d",
   "metadata": {},
   "outputs": [],
   "source": [
    "data.to_csv('updated_data.csv', index=False)"
   ]
  },
  {
   "cell_type": "code",
   "execution_count": 12,
   "id": "bf000d25-df08-4599-92db-3479bad56c3e",
   "metadata": {},
   "outputs": [
    {
     "data": {
      "text/plain": [
       "category               0\n",
       "sub_category           0\n",
       "crimeaditionalinfo    21\n",
       "dtype: int64"
      ]
     },
     "execution_count": 12,
     "metadata": {},
     "output_type": "execute_result"
    }
   ],
   "source": [
    "data.isnull().sum()"
   ]
  },
  {
   "cell_type": "code",
   "execution_count": 13,
   "id": "a1a9c18d-301a-4201-abf2-5dc2ca33afab",
   "metadata": {},
   "outputs": [
    {
     "name": "stdout",
     "output_type": "stream",
     "text": [
      "category_counts: category\n",
      "Online Financial Fraud                            57434\n",
      "Online and Social Media Related Crime             12140\n",
      "Any Other Cyber Crime                             10878\n",
      "Women/Child Related Crime                          6591\n",
      "Cyber Attack/ Dependent Crimes                     3608\n",
      "Hacking  Damage to computercomputer system etc     1710\n",
      "Cryptocurrency Crime                                480\n",
      "Online Gambling  Betting                            444\n",
      "Online Cyber Trafficking                            183\n",
      "Cyber Terrorism                                     161\n",
      "Ransomware                                           56\n",
      "Report Unlawful Content                               1\n",
      "Name: count, dtype: int64\n"
     ]
    }
   ],
   "source": [
    "category_counts = data[\"category\"].value_counts()\n",
    "print(\"category_counts:\",category_counts)\n"
   ]
  },
  {
   "cell_type": "code",
   "execution_count": 15,
   "id": "194fa94e-1ee3-4744-a04b-565c12df098b",
   "metadata": {},
   "outputs": [
    {
     "data": {
      "text/plain": [
       "category               0\n",
       "sub_category           0\n",
       "crimeaditionalinfo    21\n",
       "dtype: int64"
      ]
     },
     "execution_count": 15,
     "metadata": {},
     "output_type": "execute_result"
    }
   ],
   "source": [
    "data.isnull().sum()"
   ]
  },
  {
   "cell_type": "code",
   "execution_count": 17,
   "id": "f1d23292-540f-435c-9197-e9346f70dcf3",
   "metadata": {},
   "outputs": [
    {
     "name": "stdout",
     "output_type": "stream",
     "text": [
      "<class 'pandas.core.frame.DataFrame'>\n",
      "RangeIndex: 93686 entries, 0 to 93685\n",
      "Data columns (total 3 columns):\n",
      " #   Column              Non-Null Count  Dtype \n",
      "---  ------              --------------  ----- \n",
      " 0   category            93686 non-null  object\n",
      " 1   sub_category        93686 non-null  object\n",
      " 2   crimeaditionalinfo  93665 non-null  object\n",
      "dtypes: object(3)\n",
      "memory usage: 2.1+ MB\n"
     ]
    }
   ],
   "source": [
    "data.tail()\n",
    "data.info()"
   ]
  },
  {
   "cell_type": "code",
   "execution_count": 18,
   "id": "b8a71eef-f42e-46ee-bf15-2ad411c52ce6",
   "metadata": {},
   "outputs": [],
   "source": [
    "data.replace('',np.nan,inplace = True)\n",
    "data.dropna(inplace = True)"
   ]
  },
  {
   "cell_type": "code",
   "execution_count": 19,
   "id": "9b1b9835-7897-4e46-a789-d0f97622d5db",
   "metadata": {},
   "outputs": [
    {
     "name": "stdout",
     "output_type": "stream",
     "text": [
      "<class 'pandas.core.frame.DataFrame'>\n",
      "Index: 93665 entries, 0 to 93685\n",
      "Data columns (total 3 columns):\n",
      " #   Column              Non-Null Count  Dtype \n",
      "---  ------              --------------  ----- \n",
      " 0   category            93665 non-null  object\n",
      " 1   sub_category        93665 non-null  object\n",
      " 2   crimeaditionalinfo  93665 non-null  object\n",
      "dtypes: object(3)\n",
      "memory usage: 2.9+ MB\n"
     ]
    }
   ],
   "source": [
    "data.info()"
   ]
  },
  {
   "cell_type": "code",
   "execution_count": 20,
   "id": "468c0843-b920-43f1-974f-6996baf4ef02",
   "metadata": {},
   "outputs": [],
   "source": [
    "data.to_csv('updatedd_data.csv', index=False)"
   ]
  },
  {
   "cell_type": "code",
   "execution_count": 7,
   "id": "8ee82d51-f320-4bf9-939e-ff66ec197cd9",
   "metadata": {},
   "outputs": [
    {
     "name": "stdout",
     "output_type": "stream",
     "text": [
      "sub_category                                    Against Interest of sovereignty or integrity of India  \\\n",
      "category                                                                                                \n",
      "Any Other Cyber Crime                                                                           0       \n",
      "Cryptocurrency Crime                                                                            0       \n",
      "Cyber Attack/ Dependent Crimes                                                                  0       \n",
      "Cyber Terrorism                                                                                 0       \n",
      "Hacking  Damage to computercomputer system etc                                                  0       \n",
      "Online Cyber Trafficking                                                                        0       \n",
      "Online Financial Fraud                                                                          0       \n",
      "Online Gambling  Betting                                                                        0       \n",
      "Online and Social Media Related Crime                                                           0       \n",
      "Ransomware                                                                                      0       \n",
      "Report Unlawful Content                                                                         1       \n",
      "\n",
      "sub_category                                    Business Email CompromiseEmail Takeover  \\\n",
      "category                                                                                  \n",
      "Any Other Cyber Crime                                                                 0   \n",
      "Cryptocurrency Crime                                                                  0   \n",
      "Cyber Attack/ Dependent Crimes                                                        0   \n",
      "Cyber Terrorism                                                                       0   \n",
      "Hacking  Damage to computercomputer system etc                                        0   \n",
      "Online Cyber Trafficking                                                              0   \n",
      "Online Financial Fraud                                                              290   \n",
      "Online Gambling  Betting                                                              0   \n",
      "Online and Social Media Related Crime                                                 0   \n",
      "Ransomware                                                                            0   \n",
      "Report Unlawful Content                                                               0   \n",
      "\n",
      "sub_category                                    Cheating by Impersonation  \\\n",
      "category                                                                    \n",
      "Any Other Cyber Crime                                                   0   \n",
      "Cryptocurrency Crime                                                    0   \n",
      "Cyber Attack/ Dependent Crimes                                          0   \n",
      "Cyber Terrorism                                                         0   \n",
      "Hacking  Damage to computercomputer system etc                          0   \n",
      "Online Cyber Trafficking                                                0   \n",
      "Online Financial Fraud                                                  0   \n",
      "Online Gambling  Betting                                                0   \n",
      "Online and Social Media Related Crime                                1988   \n",
      "Ransomware                                                              0   \n",
      "Report Unlawful Content                                                 0   \n",
      "\n",
      "sub_category                                    Cryptocurrency Fraud  \\\n",
      "category                                                               \n",
      "Any Other Cyber Crime                                              0   \n",
      "Cryptocurrency Crime                                             480   \n",
      "Cyber Attack/ Dependent Crimes                                     0   \n",
      "Cyber Terrorism                                                    0   \n",
      "Hacking  Damage to computercomputer system etc                     0   \n",
      "Online Cyber Trafficking                                           0   \n",
      "Online Financial Fraud                                             0   \n",
      "Online Gambling  Betting                                           0   \n",
      "Online and Social Media Related Crime                              0   \n",
      "Ransomware                                                         0   \n",
      "Report Unlawful Content                                            0   \n",
      "\n",
      "sub_category                                    Cyber Bullying  Stalking  Sexting  \\\n",
      "category                                                                            \n",
      "Any Other Cyber Crime                                                           0   \n",
      "Cryptocurrency Crime                                                            0   \n",
      "Cyber Attack/ Dependent Crimes                                                  0   \n",
      "Cyber Terrorism                                                                 0   \n",
      "Hacking  Damage to computercomputer system etc                                  0   \n",
      "Online Cyber Trafficking                                                        0   \n",
      "Online Financial Fraud                                                          0   \n",
      "Online Gambling  Betting                                                        0   \n",
      "Online and Social Media Related Crime                                        4089   \n",
      "Ransomware                                                                      0   \n",
      "Report Unlawful Content                                                         0   \n",
      "\n",
      "sub_category                                    Cyber Terrorism  \\\n",
      "category                                                          \n",
      "Any Other Cyber Crime                                         0   \n",
      "Cryptocurrency Crime                                          0   \n",
      "Cyber Attack/ Dependent Crimes                                0   \n",
      "Cyber Terrorism                                             161   \n",
      "Hacking  Damage to computercomputer system etc                0   \n",
      "Online Cyber Trafficking                                      0   \n",
      "Online Financial Fraud                                        0   \n",
      "Online Gambling  Betting                                      0   \n",
      "Online and Social Media Related Crime                         0   \n",
      "Ransomware                                                    0   \n",
      "Report Unlawful Content                                       0   \n",
      "\n",
      "sub_category                                    Damage to computer computer systems etc  \\\n",
      "category                                                                                  \n",
      "Any Other Cyber Crime                                                                 0   \n",
      "Cryptocurrency Crime                                                                  0   \n",
      "Cyber Attack/ Dependent Crimes                                                        0   \n",
      "Cyber Terrorism                                                                       0   \n",
      "Hacking  Damage to computercomputer system etc                                      108   \n",
      "Online Cyber Trafficking                                                              0   \n",
      "Online Financial Fraud                                                                0   \n",
      "Online Gambling  Betting                                                              0   \n",
      "Online and Social Media Related Crime                                                 0   \n",
      "Ransomware                                                                            0   \n",
      "Report Unlawful Content                                                               0   \n",
      "\n",
      "sub_category                                    Data Breach/Theft  \\\n",
      "category                                                            \n",
      "Any Other Cyber Crime                                           0   \n",
      "Cryptocurrency Crime                                            0   \n",
      "Cyber Attack/ Dependent Crimes                                484   \n",
      "Cyber Terrorism                                                 0   \n",
      "Hacking  Damage to computercomputer system etc                  0   \n",
      "Online Cyber Trafficking                                        0   \n",
      "Online Financial Fraud                                          0   \n",
      "Online Gambling  Betting                                        0   \n",
      "Online and Social Media Related Crime                           0   \n",
      "Ransomware                                                      0   \n",
      "Report Unlawful Content                                         0   \n",
      "\n",
      "sub_category                                    DebitCredit Card FraudSim Swap Fraud  \\\n",
      "category                                                                               \n",
      "Any Other Cyber Crime                                                              0   \n",
      "Cryptocurrency Crime                                                               0   \n",
      "Cyber Attack/ Dependent Crimes                                                     0   \n",
      "Cyber Terrorism                                                                    0   \n",
      "Hacking  Damage to computercomputer system etc                                     0   \n",
      "Online Cyber Trafficking                                                           0   \n",
      "Online Financial Fraud                                                         10805   \n",
      "Online Gambling  Betting                                                           0   \n",
      "Online and Social Media Related Crime                                              0   \n",
      "Ransomware                                                                         0   \n",
      "Report Unlawful Content                                                            0   \n",
      "\n",
      "sub_category                                    DematDepository Fraud  ...  \\\n",
      "category                                                               ...   \n",
      "Any Other Cyber Crime                                               0  ...   \n",
      "Cryptocurrency Crime                                                0  ...   \n",
      "Cyber Attack/ Dependent Crimes                                      0  ...   \n",
      "Cyber Terrorism                                                     0  ...   \n",
      "Hacking  Damage to computercomputer system etc                      0  ...   \n",
      "Online Cyber Trafficking                                            0  ...   \n",
      "Online Financial Fraud                                            761  ...   \n",
      "Online Gambling  Betting                                            0  ...   \n",
      "Online and Social Media Related Crime                               0  ...   \n",
      "Ransomware                                                          0  ...   \n",
      "Report Unlawful Content                                             0  ...   \n",
      "\n",
      "sub_category                                    Other  \\\n",
      "category                                                \n",
      "Any Other Cyber Crime                           10878   \n",
      "Cryptocurrency Crime                                0   \n",
      "Cyber Attack/ Dependent Crimes                      0   \n",
      "Cyber Terrorism                                     0   \n",
      "Hacking  Damage to computercomputer system etc      0   \n",
      "Online Cyber Trafficking                            0   \n",
      "Online Financial Fraud                              0   \n",
      "Online Gambling  Betting                            0   \n",
      "Online and Social Media Related Crime               0   \n",
      "Ransomware                                          0   \n",
      "Report Unlawful Content                             0   \n",
      "\n",
      "sub_category                                    Profile Hacking Identity Theft  \\\n",
      "category                                                                         \n",
      "Any Other Cyber Crime                                                        0   \n",
      "Cryptocurrency Crime                                                         0   \n",
      "Cyber Attack/ Dependent Crimes                                               0   \n",
      "Cyber Terrorism                                                              0   \n",
      "Hacking  Damage to computercomputer system etc                               0   \n",
      "Online Cyber Trafficking                                                     0   \n",
      "Online Financial Fraud                                                       0   \n",
      "Online Gambling  Betting                                                     0   \n",
      "Online and Social Media Related Crime                                     2073   \n",
      "Ransomware                                                                   0   \n",
      "Report Unlawful Content                                                      0   \n",
      "\n",
      "sub_category                                    Provocative Speech for unlawful acts  \\\n",
      "category                                                                               \n",
      "Any Other Cyber Crime                                                              0   \n",
      "Cryptocurrency Crime                                                               0   \n",
      "Cyber Attack/ Dependent Crimes                                                     0   \n",
      "Cyber Terrorism                                                                    0   \n",
      "Hacking  Damage to computercomputer system etc                                     0   \n",
      "Online Cyber Trafficking                                                           0   \n",
      "Online Financial Fraud                                                             0   \n",
      "Online Gambling  Betting                                                           0   \n",
      "Online and Social Media Related Crime                                            417   \n",
      "Ransomware                                                                         0   \n",
      "Report Unlawful Content                                                            0   \n",
      "\n",
      "sub_category                                    Ransomware  Ransomware Attack  \\\n",
      "category                                                                        \n",
      "Any Other Cyber Crime                                    0                  0   \n",
      "Cryptocurrency Crime                                     0                  0   \n",
      "Cyber Attack/ Dependent Crimes                           0                534   \n",
      "Cyber Terrorism                                          0                  0   \n",
      "Hacking  Damage to computercomputer system etc           0                  0   \n",
      "Online Cyber Trafficking                                 0                  0   \n",
      "Online Financial Fraud                                   0                  0   \n",
      "Online Gambling  Betting                                 0                  0   \n",
      "Online and Social Media Related Crime                    0                  0   \n",
      "Ransomware                                              56                  0   \n",
      "Report Unlawful Content                                  0                  0   \n",
      "\n",
      "sub_category                                    SQL Injection  \\\n",
      "category                                                        \n",
      "Any Other Cyber Crime                                       0   \n",
      "Cryptocurrency Crime                                        0   \n",
      "Cyber Attack/ Dependent Crimes                            508   \n",
      "Cyber Terrorism                                             0   \n",
      "Hacking  Damage to computercomputer system etc              0   \n",
      "Online Cyber Trafficking                                    0   \n",
      "Online Financial Fraud                                      0   \n",
      "Online Gambling  Betting                                    0   \n",
      "Online and Social Media Related Crime                       0   \n",
      "Ransomware                                                  0   \n",
      "Report Unlawful Content                                     0   \n",
      "\n",
      "sub_category                                    Tampering with computer source documents  \\\n",
      "category                                                                                   \n",
      "Any Other Cyber Crime                                                                  0   \n",
      "Cryptocurrency Crime                                                                   0   \n",
      "Cyber Attack/ Dependent Crimes                                                       517   \n",
      "Cyber Terrorism                                                                        0   \n",
      "Hacking  Damage to computercomputer system etc                                        50   \n",
      "Online Cyber Trafficking                                                               0   \n",
      "Online Financial Fraud                                                                 0   \n",
      "Online Gambling  Betting                                                               0   \n",
      "Online and Social Media Related Crime                                                  0   \n",
      "Ransomware                                                                             0   \n",
      "Report Unlawful Content                                                                0   \n",
      "\n",
      "sub_category                                    UPI Related Frauds  \\\n",
      "category                                                             \n",
      "Any Other Cyber Crime                                            0   \n",
      "Cryptocurrency Crime                                             0   \n",
      "Cyber Attack/ Dependent Crimes                                   0   \n",
      "Cyber Terrorism                                                  0   \n",
      "Hacking  Damage to computercomputer system etc                   0   \n",
      "Online Cyber Trafficking                                         0   \n",
      "Online Financial Fraud                                       26856   \n",
      "Online Gambling  Betting                                         0   \n",
      "Online and Social Media Related Crime                            0   \n",
      "Ransomware                                                       0   \n",
      "Report Unlawful Content                                          0   \n",
      "\n",
      "sub_category                                    Unauthorised AccessData Breach  \\\n",
      "category                                                                         \n",
      "Any Other Cyber Crime                                                        0   \n",
      "Cryptocurrency Crime                                                         0   \n",
      "Cyber Attack/ Dependent Crimes                                               0   \n",
      "Cyber Terrorism                                                              0   \n",
      "Hacking  Damage to computercomputer system etc                            1114   \n",
      "Online Cyber Trafficking                                                     0   \n",
      "Online Financial Fraud                                                       0   \n",
      "Online Gambling  Betting                                                     0   \n",
      "Online and Social Media Related Crime                                        0   \n",
      "Ransomware                                                                   0   \n",
      "Report Unlawful Content                                                      0   \n",
      "\n",
      "sub_category                                    Website DefacementHacking  \n",
      "category                                                                   \n",
      "Any Other Cyber Crime                                                   0  \n",
      "Cryptocurrency Crime                                                    0  \n",
      "Cyber Attack/ Dependent Crimes                                          0  \n",
      "Cyber Terrorism                                                         0  \n",
      "Hacking  Damage to computercomputer system etc                         89  \n",
      "Online Cyber Trafficking                                                0  \n",
      "Online Financial Fraud                                                  0  \n",
      "Online Gambling  Betting                                                0  \n",
      "Online and Social Media Related Crime                                   0  \n",
      "Ransomware                                                              0  \n",
      "Report Unlawful Content                                                 0  \n",
      "\n",
      "[11 rows x 35 columns]\n"
     ]
    }
   ],
   "source": [
    "import pandas as pd\n",
    "\n",
    "# Assuming your DataFrame is named `df`\n",
    "freq_table = pd.crosstab(data['category'], data['sub_category'])\n",
    "print(freq_table)\n"
   ]
  },
  {
   "cell_type": "code",
   "execution_count": null,
   "id": "1309818d-e31f-4991-ad3f-c0ceeed0e517",
   "metadata": {},
   "outputs": [],
   "source": []
  }
 ],
 "metadata": {
  "kernelspec": {
   "display_name": "Python 3 (ipykernel)",
   "language": "python",
   "name": "python3"
  },
  "language_info": {
   "codemirror_mode": {
    "name": "ipython",
    "version": 3
   },
   "file_extension": ".py",
   "mimetype": "text/x-python",
   "name": "python",
   "nbconvert_exporter": "python",
   "pygments_lexer": "ipython3",
   "version": "3.12.1"
  }
 },
 "nbformat": 4,
 "nbformat_minor": 5
}
