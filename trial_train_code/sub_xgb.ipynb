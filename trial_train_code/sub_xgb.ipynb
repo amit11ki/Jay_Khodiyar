{
 "cells": [
  {
   "cell_type": "code",
   "execution_count": 1,
   "id": "9e224efa-1b9f-4719-95ae-cd1cfe0af404",
   "metadata": {},
   "outputs": [],
   "source": [
    "from sklearn.feature_extraction.text import TfidfVectorizer\n",
    "from sklearn.ensemble import RandomForestClassifier\n",
    "from xgboost import XGBClassifier\n",
    "from sklearn.model_selection import train_test_split\n",
    "from sklearn.metrics import accuracy_score, f1_score\n",
    "from sklearn.preprocessing import LabelEncoder"
   ]
  },
  {
   "cell_type": "code",
   "execution_count": 2,
   "id": "64edd139-98b8-4fb7-bfd1-a3ee47448b12",
   "metadata": {},
   "outputs": [],
   "source": [
    "import pandas as pd"
   ]
  },
  {
   "cell_type": "code",
   "execution_count": 3,
   "id": "e62238bb-1c05-4ca7-8522-b67a76caad17",
   "metadata": {},
   "outputs": [],
   "source": [
    "data = pd.read_csv(r\"C:\\Users\\Ronak Gohil\\Desktop\\Hakathon\\updatedd_data_updated.csv\")"
   ]
  },
  {
   "cell_type": "code",
   "execution_count": 4,
   "id": "c7d32d0d-eae2-4bab-859c-4b876a9cf65e",
   "metadata": {},
   "outputs": [
    {
     "name": "stdout",
     "output_type": "stream",
     "text": [
      "Subcategory Accuracy: 0.92\n",
      "Subcategory F1-score: 0.93\n"
     ]
    }
   ],
   "source": [
    "# Assuming df is your DataFrame with 'processed_text' and 'sub_category' columns\n",
    "X = data['crimeaditionalinfo']\n",
    "y_sub = data['sub_category']\n",
    "\n",
    "# Encode the subcategory labels\n",
    "le = LabelEncoder()\n",
    "y_sub_encoded = le.fit_transform(y_sub)\n",
    "\n",
    "# Split data into training and testing sets\n",
    "X_train, X_test, y_train_sub, y_test_sub = train_test_split(X, y_sub_encoded, test_size=0.2, random_state=42)\n",
    "\n",
    "# Train the subcategory classifier\n",
    "vectorizer = TfidfVectorizer()\n",
    "X_tfidf_train = vectorizer.fit_transform(X_train)\n",
    "X_tfidf_test = vectorizer.transform(X_test)\n",
    "\n",
    "# Use XGBoost for the subcategory classifier\n",
    "xgb_sub = XGBClassifier(random_state=42)\n",
    "xgb_sub.fit(X_tfidf_train, y_train_sub)\n",
    "\n",
    "# Predict subcategories for the test set\n",
    "y_pred_sub = xgb_sub.predict(X_tfidf_test)\n",
    "\n",
    "# Evaluate subcategory classification performance\n",
    "sub_accuracy = accuracy_score(y_test_sub, y_pred_sub)\n",
    "sub_f1 = f1_score(y_test_sub, y_pred_sub, average='macro')\n",
    "\n",
    "print(f\"Subcategory Accuracy: {sub_accuracy:.2f}\")\n",
    "print(f\"Subcategory F1-score: {sub_f1:.2f}\")\n",
    "\n",
    "# If you need to convert the numerical predictions back to string labels\n",
    "y_pred_sub_labels = le.inverse_transform(y_pred_sub)\n",
    "\n",
    "# Now, use the subcategory predictions to classify into the higher-level categories\n",
    "# This can be done by training a separate category-level classifier or using a rule-based approach"
   ]
  },
  {
   "cell_type": "code",
   "execution_count": 5,
   "id": "0d8fac1d-bd8a-4c1b-a507-8671c80e19b2",
   "metadata": {},
   "outputs": [],
   "source": [
    "import joblib"
   ]
  },
  {
   "cell_type": "code",
   "execution_count": 7,
   "id": "a8e0aa42-4b10-4246-b823-1a72544b8205",
   "metadata": {},
   "outputs": [
    {
     "data": {
      "text/plain": [
       "['le.joblib']"
      ]
     },
     "execution_count": 7,
     "metadata": {},
     "output_type": "execute_result"
    }
   ],
   "source": [
    "joblib.dump(xgb_sub, \"xgb_model.joblib\")\n",
    "joblib.dump(vectorizer, \"vectorizer.joblib\")\n",
    "joblib.dump(le, \"le.joblib\")"
   ]
  },
  {
   "cell_type": "code",
   "execution_count": null,
   "id": "bb9df770-6383-4b89-85c4-2d232490fe33",
   "metadata": {},
   "outputs": [],
   "source": []
  }
 ],
 "metadata": {
  "kernelspec": {
   "display_name": "Python 3 (ipykernel)",
   "language": "python",
   "name": "python3"
  },
  "language_info": {
   "codemirror_mode": {
    "name": "ipython",
    "version": 3
   },
   "file_extension": ".py",
   "mimetype": "text/x-python",
   "name": "python",
   "nbconvert_exporter": "python",
   "pygments_lexer": "ipython3",
   "version": "3.12.7"
  }
 },
 "nbformat": 4,
 "nbformat_minor": 5
}
