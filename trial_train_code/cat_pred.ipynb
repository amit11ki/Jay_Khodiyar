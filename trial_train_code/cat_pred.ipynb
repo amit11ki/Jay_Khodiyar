{
 "cells": [
  {
   "cell_type": "code",
   "execution_count": 1,
   "metadata": {},
   "outputs": [
    {
     "name": "stderr",
     "output_type": "stream",
     "text": [
      "C:\\Users\\HARSHIL\\AppData\\Roaming\\Python\\Python312\\site-packages\\sklearn\\base.py:376: InconsistentVersionWarning: Trying to unpickle estimator TfidfTransformer from version 1.5.2 when using version 1.5.0. This might lead to breaking code or invalid results. Use at your own risk. For more info please refer to:\n",
      "https://scikit-learn.org/stable/model_persistence.html#security-maintainability-limitations\n",
      "  warnings.warn(\n",
      "C:\\Users\\HARSHIL\\AppData\\Roaming\\Python\\Python312\\site-packages\\sklearn\\base.py:376: InconsistentVersionWarning: Trying to unpickle estimator TfidfVectorizer from version 1.5.2 when using version 1.5.0. This might lead to breaking code or invalid results. Use at your own risk. For more info please refer to:\n",
      "https://scikit-learn.org/stable/model_persistence.html#security-maintainability-limitations\n",
      "  warnings.warn(\n",
      "C:\\Users\\HARSHIL\\AppData\\Roaming\\Python\\Python312\\site-packages\\sklearn\\base.py:376: InconsistentVersionWarning: Trying to unpickle estimator LabelEncoder from version 1.5.2 when using version 1.5.0. This might lead to breaking code or invalid results. Use at your own risk. For more info please refer to:\n",
      "https://scikit-learn.org/stable/model_persistence.html#security-maintainability-limitations\n",
      "  warnings.warn(\n"
     ]
    }
   ],
   "source": [
    "\n",
    "import xgboost\n",
    "import joblib\n",
    "import pandas as pd\n",
    "from scipy.sparse import hstack\n",
    "from sklearn.linear_model import LogisticRegression\n",
    "from sklearn.metrics import accuracy_score, f1_score\n",
    "from sklearn.model_selection import train_test_split\n",
    "from sklearn.preprocessing import LabelEncoder\n",
    "\n",
    "# Load saved subcategory components\n",
    "xgb_sub = joblib.load(\"xgb_model.joblib\")\n",
    "vectorizer = joblib.load(\"vectorizer.joblib\")\n",
    "le_sub = joblib.load(\"le.joblib\")\n",
    "\n",
    "data = pd.read_csv(\"abbreviated_file.csv\")\n",
    "# Assuming 'data' has 'cleaned_text' and 'category' columns\n",
    "X = data['crimeaditionalinfo']\n",
    "y_category = data['category']\n",
    "\n",
    "# Encode the category labels\n",
    "le_category = LabelEncoder()\n",
    "y_category_encoded = le_category.fit_transform(y_category)\n",
    "\n",
    "# Transform text using the loaded TfidfVectorizer\n",
    "X_tfidf_full = vectorizer.transform(X)\n",
    "\n",
    "# Get subcategory predictions for the entire dataset\n",
    "subcategory_predictions = xgb_sub.predict(X_tfidf_full)\n",
    "\n",
    "# Combine TF-IDF features with subcategory predictions for main category classification\n",
    "X_combined = hstack((X_tfidf_full, subcategory_predictions.reshape(-1, 1)))\n",
    "\n",
    "# Split data for training and testing\n",
    "X_train_combined, X_test_combined, y_train_cat, y_test_cat = train_test_split(X_combined, y_category_encoded, test_size=0.2, random_state=42)"
   ]
  },
  {
   "cell_type": "code",
   "execution_count": 3,
   "metadata": {},
   "outputs": [
    {
     "name": "stderr",
     "output_type": "stream",
     "text": [
      "C:\\Users\\HARSHIL\\AppData\\Roaming\\Python\\Python312\\site-packages\\sklearn\\linear_model\\_sag.py:349: ConvergenceWarning: The max_iter was reached which means the coef_ did not converge\n",
      "  warnings.warn(\n"
     ]
    },
    {
     "name": "stdout",
     "output_type": "stream",
     "text": [
      "Category Accuracy: 0.98\n",
      "Category F1-score: 0.98\n",
      "                           precision    recall  f1-score   support\n",
      "\n",
      "   Financial Fraud Crimes       0.98      0.98      0.98     47530\n",
      "        Other Cyber Crime       0.99      0.99      0.99    113173\n",
      "Women/Child Related Crime       0.98      0.97      0.98     19901\n",
      "\n",
      "                 accuracy                           0.98    180604\n",
      "                macro avg       0.98      0.98      0.98    180604\n",
      "             weighted avg       0.98      0.98      0.98    180604\n",
      "\n"
     ]
    }
   ],
   "source": [
    "from sklearn.preprocessing import StandardScaler\n",
    "from sklearn.linear_model import LogisticRegression\n",
    "from sklearn.pipeline import Pipeline\n",
    "\n",
    "# Build a pipeline to scale the data and fit the Logistic Regression model\n",
    "pipeline = Pipeline([\n",
    "    ('scaler', StandardScaler(with_mean=False)),  # Set with_mean=False for sparse matrices\n",
    "    ('log_reg', LogisticRegression(max_iter=1200, solver='saga', random_state=42))\n",
    "])\n",
    "\n",
    "# Train the pipeline on the training set\n",
    "pipeline.fit(X_train_combined, y_train_cat)\n",
    "\n",
    "# Predict categories for the test set\n",
    "y_pred_cat = pipeline.predict(X_test_combined)\n",
    "\n",
    "# Evaluate main category classification performance\n",
    "cat_accuracy = accuracy_score(y_test_cat, y_pred_cat)\n",
    "cat_f1 = f1_score(y_test_cat, y_pred_cat, average='weighted')\n",
    "\n",
    "print(f\"Category Accuracy: {cat_accuracy:.2f}\")\n",
    "print(f\"Category F1-score: {cat_f1:.2f}\")\n",
    "print(classification_report(y_test_cat, y_pred_cat, target_names=le_category.classes_))\n"
   ]
  },
  {
   "cell_type": "code",
   "execution_count": 5,
   "metadata": {},
   "outputs": [
    {
     "name": "stdout",
     "output_type": "stream",
     "text": [
      "Model pipeline saved as 'log_reg_pipeline_model.joblib'\n"
     ]
    }
   ],
   "source": [
    " # Save the trained pipeline\n",
    "joblib.dump(pipeline, \"log_reg_pipeline_model.joblib\")\n",
    "joblib.dump(le_category,\"le_cat.joblib\")\n",
    "print(\"Model pipeline saved as 'log_reg_pipeline_model.joblib'\")\n"
   ]
  },
  {
   "cell_type": "code",
   "execution_count": null,
   "metadata": {},
   "outputs": [],
   "source": [
    "new_text = \n"
   ]
  }
 ],
 "metadata": {
  "kaggle": {
   "accelerator": "tpu1vmV38",
   "dataSources": [
    {
     "datasetId": 6014779,
     "sourceId": 9811465,
     "sourceType": "datasetVersion"
    },
    {
     "datasetId": 6024025,
     "sourceId": 9823826,
     "sourceType": "datasetVersion"
    },
    {
     "isSourceIdPinned": true,
     "modelId": 157022,
     "modelInstanceId": 134254,
     "sourceId": 157984,
     "sourceType": "modelInstanceVersion"
    }
   ],
   "dockerImageVersionId": 30787,
   "isGpuEnabled": false,
   "isInternetEnabled": true,
   "language": "python",
   "sourceType": "notebook"
  },
  "kernelspec": {
   "display_name": "Python 3 (ipykernel)",
   "language": "python",
   "name": "python3"
  },
  "language_info": {
   "codemirror_mode": {
    "name": "ipython",
    "version": 3
   },
   "file_extension": ".py",
   "mimetype": "text/x-python",
   "name": "python",
   "nbconvert_exporter": "python",
   "pygments_lexer": "ipython3",
   "version": "3.12.1"
  }
 },
 "nbformat": 4,
 "nbformat_minor": 4
}
