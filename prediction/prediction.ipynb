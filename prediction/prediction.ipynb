{
 "cells": [
  {
   "cell_type": "code",
   "execution_count": 3,
   "id": "f6ca8b1b-1956-48f0-9a71-f83e80089ee2",
   "metadata": {},
   "outputs": [
    {
     "name": "stderr",
     "output_type": "stream",
     "text": [
      "C:\\Users\\HARSHIL\\AppData\\Roaming\\Python\\Python312\\site-packages\\sklearn\\base.py:376: InconsistentVersionWarning: Trying to unpickle estimator TfidfTransformer from version 1.5.2 when using version 1.5.0. This might lead to breaking code or invalid results. Use at your own risk. For more info please refer to:\n",
      "https://scikit-learn.org/stable/model_persistence.html#security-maintainability-limitations\n",
      "  warnings.warn(\n",
      "C:\\Users\\HARSHIL\\AppData\\Roaming\\Python\\Python312\\site-packages\\sklearn\\base.py:376: InconsistentVersionWarning: Trying to unpickle estimator TfidfVectorizer from version 1.5.2 when using version 1.5.0. This might lead to breaking code or invalid results. Use at your own risk. For more info please refer to:\n",
      "https://scikit-learn.org/stable/model_persistence.html#security-maintainability-limitations\n",
      "  warnings.warn(\n",
      "C:\\Users\\HARSHIL\\AppData\\Roaming\\Python\\Python312\\site-packages\\sklearn\\base.py:376: InconsistentVersionWarning: Trying to unpickle estimator LabelEncoder from version 1.5.2 when using version 1.5.0. This might lead to breaking code or invalid results. Use at your own risk. For more info please refer to:\n",
      "https://scikit-learn.org/stable/model_persistence.html#security-maintainability-limitations\n",
      "  warnings.warn(\n"
     ]
    },
    {
     "name": "stdout",
     "output_type": "stream",
     "text": [
      "Predicted Subcategory: Fake/Impersonating Profile\n",
      "Predicted Main Category: Other Cyber Crime\n"
     ]
    }
   ],
   "source": [
    "import joblib\n",
    "import numpy as np\n",
    "from scipy.sparse import hstack\n",
    "\n",
    "# Load the saved models and encoders\n",
    "xgb_sub = joblib.load('xgb_model.joblib')\n",
    "rf_category = joblib.load('log_reg_pipeline_model.joblib')\n",
    "vectorizer = joblib.load('vectorizer.joblib')\n",
    "le = joblib.load('le.joblib')\n",
    "le_category = joblib.load('le_cat.joblib')\n",
    "\n",
    "def predict_categories(text):\n",
    "    \"\"\"\n",
    "    Predict the subcategory and main category for a given text.\n",
    "    \n",
    "    Args:\n",
    "        text (str): The input text to be classified.\n",
    "    \n",
    "    Returns:\n",
    "        Tuple[str, str]: The predicted subcategory and main category labels.\n",
    "    \"\"\"\n",
    "    # Preprocess and vectorize the text\n",
    "    X_new = vectorizer.transform([text])\n",
    "    \n",
    "    # Predict subcategory\n",
    "    subcategory_pred = xgb_sub.predict(X_new)\n",
    "    subcategory_label = le.inverse_transform(subcategory_pred)[0]\n",
    "    \n",
    "    # Combine features for category prediction\n",
    "    X_combined_new = hstack((X_new, subcategory_pred.reshape(-1, 1)))\n",
    "    \n",
    "    # Predict category\n",
    "    category_pred = rf_category.predict(X_combined_new)\n",
    "    category_label = le_category.inverse_transform(category_pred)[0]\n",
    "    \n",
    "    return subcategory_label, category_label\n",
    "\n",
    "# Example usage\n",
    "new_text = \"victim website url frd sent rupee th dec tm transaction ID als add whats app group many group nm zyra contact dtd\"\n",
    "\n",
    "subcategory, main_category = predict_categories(new_text)\n",
    "print(f\"Predicted Subcategory: {subcategory}\")\n",
    "print(f\"Predicted Main Category: {main_category}\")"
   ]
  },
  {
   "cell_type": "code",
   "execution_count": null,
   "id": "55a8e390-4269-45c5-96a2-c1f12f55ed82",
   "metadata": {},
   "outputs": [],
   "source": []
  }
 ],
 "metadata": {
  "kernelspec": {
   "display_name": "Python 3 (ipykernel)",
   "language": "python",
   "name": "python3"
  },
  "language_info": {
   "codemirror_mode": {
    "name": "ipython",
    "version": 3
   },
   "file_extension": ".py",
   "mimetype": "text/x-python",
   "name": "python",
   "nbconvert_exporter": "python",
   "pygments_lexer": "ipython3",
   "version": "3.12.1"
  }
 },
 "nbformat": 4,
 "nbformat_minor": 5
}
